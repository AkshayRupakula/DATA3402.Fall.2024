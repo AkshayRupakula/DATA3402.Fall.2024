{
 "cells": [
  {
   "cell_type": "markdown",
   "metadata": {},
   "source": [
    "## Lab 2- Tic Tac Toe\n",
    "\n",
    "In this lab your will build a n x n Tic Tac Toe game. As you do the exercises, make sure your solutions work for any size Tic Tac Toe game. "
   ]
  },
  {
   "cell_type": "markdown",
   "metadata": {},
   "source": [
    "*Exercise 1:* Write a function that creates an n by n matrix (of list of lists) which will represent the state of a Tie Tac Toe game. Let 0, 1, and 2 represent empty, \"X\", and \"O\", respectively.\n"
   ]
  },
  {
   "cell_type": "code",
   "execution_count": 1,
   "metadata": {},
   "outputs": [],
   "source": [
    "def create_tic_tac_toe_board(n):\n",
    "    board = [[0 for _ in range(n)] for _ in range(n)]\n",
    "    return board"
   ]
  },
  {
   "cell_type": "code",
   "execution_count": 2,
   "metadata": {},
   "outputs": [
    {
     "name": "stdout",
     "output_type": "stream",
     "text": [
      "[0, 0, 0]\n",
      "[0, 0, 0]\n",
      "[0, 0, 0]\n"
     ]
    }
   ],
   "source": [
    "n = 3\n",
    "tic_tac_toe_board = create_tic_tac_toe_board(n)\n",
    "for row in tic_tac_toe_board:\n",
    "    print(row)"
   ]
  },
  {
   "cell_type": "markdown",
   "metadata": {},
   "source": [
    "*Exercise 2:* Write a function that takes 2 integers `n` and `m` as input and draws a `n` by `m` game board. For example the following is a 3x3 board:\n",
    "```\n",
    "   --- --- --- \n",
    "  |   |   |   | \n",
    "   --- --- ---  \n",
    "  |   |   |   | \n",
    "   --- --- ---  \n",
    "  |   |   |   | \n",
    "   --- --- --- \n",
    "   ```"
   ]
  },
  {
   "cell_type": "code",
   "execution_count": 3,
   "metadata": {},
   "outputs": [],
   "source": [
    "def draw_game_board(n, m):\n",
    "    for i in range(n):\n",
    "        print(\" ---\" * m)\n",
    "        print(\"|   \" * (m + 1))\n",
    "    print(\" ---\" * m)"
   ]
  },
  {
   "cell_type": "code",
   "execution_count": 4,
   "metadata": {},
   "outputs": [
    {
     "name": "stdout",
     "output_type": "stream",
     "text": [
      " --- --- ---\n",
      "|   |   |   |   \n",
      " --- --- ---\n",
      "|   |   |   |   \n",
      " --- --- ---\n",
      "|   |   |   |   \n",
      " --- --- ---\n"
     ]
    }
   ],
   "source": [
    "n = 3\n",
    "m = 3\n",
    "draw_game_board(n, m)"
   ]
  },
  {
   "cell_type": "markdown",
   "metadata": {},
   "source": [
    "*Exercise 3:* Modify exercise 2, so that it takes a matrix of the form from exercise 1 and draws a tic-tac-tie board with \"X\"s and \"O\"s.  "
   ]
  },
  {
   "cell_type": "code",
   "execution_count": 5,
   "metadata": {},
   "outputs": [],
   "source": [
    "def draw_tic_tac_toe_board(matrix):\n",
    "    n = len(matrix)\n",
    "    m = len(matrix[0])\n",
    "    symbol_map = {0: \" \", 1: \"X\", 2: \"O\"}\n",
    "    \n",
    "    for i in range(n):\n",
    "        print(\" ---\" * m)\n",
    "        row = \"|\"\n",
    "        for j in range(m):\n",
    "            row += f\" {symbol_map[matrix[i][j]]} |\"\n",
    "        print(row)\n",
    "    \n",
    "    print(\" ---\" * m)"
   ]
  },
  {
   "cell_type": "code",
   "execution_count": 6,
   "metadata": {},
   "outputs": [
    {
     "name": "stdout",
     "output_type": "stream",
     "text": [
      " --- --- ---\n",
      "| X |   | O |\n",
      " --- --- ---\n",
      "|   | X |   |\n",
      " --- --- ---\n",
      "| O | X | X |\n",
      " --- --- ---\n"
     ]
    }
   ],
   "source": [
    "board = [\n",
    "    [1, 0, 2],\n",
    "    [0, 1, 0],\n",
    "    [2, 1, 1]\n",
    "]\n",
    "draw_tic_tac_toe_board(board)"
   ]
  },
  {
   "cell_type": "markdown",
   "metadata": {},
   "source": [
    "*Exercise 4:* Write a function that takes a `n` by `n` matrix representing a tic-tac-toe game, and returns -1, 0, 1, or 2 indicating the game is incomplete, the game is a draw, player 1 has won, or player 2 has one, respectively. Here are some example inputs you can use to test your code:"
   ]
  },
  {
   "cell_type": "code",
   "execution_count": 8,
   "metadata": {},
   "outputs": [],
   "source": [
    "def check_winner(board):\n",
    "    n = len(board)\n",
    "    for row in board:\n",
    "        if row.count(row[0]) == n and row[0] != 0:\n",
    "            return row[0]\n",
    "            \n",
    "    for col in range(n):\n",
    "        if all(board[row][col] == board[0][col] for row in range(n)) and board[0][col] != 0:\n",
    "            return board[0][col]\n",
    "            \n",
    "    if all(board[i][i] == board[0][0] for i in range(n)) and board[0][0] != 0:\n",
    "        return board[0][0]\n",
    "        \n",
    "    if all(board[i][n - 1 - i] == board[0][n - 1] for i in range(n)) and board[0][n - 1] != 0:\n",
    "        return board[0][n - 1]\n",
    "        \n",
    "    for row in board:\n",
    "        if 0 in row:\n",
    "            return -1\n",
    "            \n",
    "    return 0"
   ]
  },
  {
   "cell_type": "code",
   "execution_count": 14,
   "metadata": {},
   "outputs": [
    {
     "name": "stdout",
     "output_type": "stream",
     "text": [
      "2\n",
      "1\n",
      "1\n",
      "-1\n",
      "-1\n"
     ]
    }
   ],
   "source": [
    "# Test your solution\n",
    "winner_is_2 = [[2, 2, 0],\n",
    "               [2, 1, 0],\n",
    "               [2, 1, 1]]\n",
    "\n",
    "winner_is_1 = [[1, 2, 0],\n",
    "               [2, 1, 0],\n",
    "               [2, 1, 1]]\n",
    "\n",
    "winner_is_also_1 = [[0, 1, 0],\n",
    "                    [2, 1, 0],\n",
    "                    [2, 1, 1]]\n",
    "\n",
    "no_winner = [[1, 2, 0],\n",
    "             [2, 1, 0],\n",
    "             [2, 1, 2]]\n",
    "\n",
    "also_no_winner = [[1, 2, 0],\n",
    "                  [2, 1, 0],\n",
    "                  [2, 1, 0]]\n",
    "\n",
    "print(check_winner(winner_is_2))  # Output: 2\n",
    "print(check_winner(winner_is_1))  # Output: 1\n",
    "print(check_winner(winner_is_also_1))  # Output: 1\n",
    "print(check_winner(no_winner))  # Output: -1 (incomplete game)\n",
    "print(check_winner(also_no_winner))  # Output: 0 (draw) here"
   ]
  },
  {
   "cell_type": "markdown",
   "metadata": {},
   "source": [
    "*Exercise 5:* Write a function that takes a game board, player number, and `(x,y)` coordinates and places \"X\" or \"O\" in the correct location of the game board. Make sure that you only allow filling previously empty locations. Return `True` or `False` to indicate successful placement of \"X\" or \"O\"."
   ]
  },
  {
   "cell_type": "code",
   "execution_count": 8,
   "metadata": {},
   "outputs": [
    {
     "name": "stdout",
     "output_type": "stream",
     "text": [
      "Placement successful!\n",
      "Placement successful!\n",
      "Spot already taken!\n",
      "Placement failed.\n",
      "[2, 0, 0]\n",
      "[0, 1, 0]\n",
      "[0, 0, 0]\n"
     ]
    }
   ],
   "source": [
    "def place_marker(board, player, x, y):\n",
    "    if x < 0 or x >= len(board) or y < 0 or y >= len(board[0]):\n",
    "        print(\"Invalid coordinates!\")\n",
    "        return False\n",
    "        \n",
    "    if board[x][y] == 0:\n",
    "        board[x][y] = player\n",
    "        return True\n",
    "    else:\n",
    "        print(\"Spot already taken!\")\n",
    "        return False"
   ]
  },
  {
   "cell_type": "code",
   "execution_count": 17,
   "metadata": {},
   "outputs": [
    {
     "name": "stdout",
     "output_type": "stream",
     "text": [
      "Placement successful!\n",
      "Placement successful!\n",
      "Placement failed.\n",
      "[2, 0, 0]\n",
      "[0, 1, 0]\n",
      "[0, 0, 0]\n"
     ]
    }
   ],
   "source": [
    "def place_marker(board, player, row, col):\n",
    "    if board[row][col] == 0:\n",
    "        board[row][col] = player\n",
    "        return True\n",
    "    else:\n",
    "        return False\n",
    "\n",
    "game_board = [\n",
    "    [0, 0, 0],\n",
    "    [0, 0, 0],\n",
    "    [0, 0, 0]\n",
    "]\n",
    "\n",
    "if place_marker(game_board, 1, 1, 1):\n",
    "    print(\"Placement successful!\")\n",
    "else:\n",
    "    print(\"Placement failed.\")\n",
    "\n",
    "if place_marker(game_board, 2, 0, 0):\n",
    "    print(\"Placement successful!\")\n",
    "else:\n",
    "    print(\"Placement failed.\")\n",
    "\n",
    "if place_marker(game_board, 1, 1, 1):\n",
    "    print(\"Placement successful!\")\n",
    "else:\n",
    "    print(\"Placement failed.\")\n",
    "\n",
    "for row in game_board:\n",
    "    print(row)\n"
   ]
  },
  {
   "cell_type": "markdown",
   "metadata": {},
   "source": [
    "*Exercise 6:* Modify Exercise 4 to show column and row labels so that players can specify location using \"A2\" or \"C1\"."
   ]
  },
  {
   "cell_type": "code",
   "execution_count": 9,
   "metadata": {},
   "outputs": [
    {
     "name": "stdout",
     "output_type": "stream",
     "text": [
      "  1 2 3\n",
      "A       \n",
      "B       \n",
      "C       \n",
      "Placement successful!\n",
      "  1 2 3\n",
      "A X     \n",
      "B       \n",
      "C       \n",
      "Placement successful!\n",
      "  1 2 3\n",
      "A X     \n",
      "B   O   \n",
      "C       \n",
      "Spot already taken!\n",
      "Placement failed.\n",
      "  1 2 3\n",
      "A X     \n",
      "B   O   \n",
      "C       \n"
     ]
    }
   ],
   "source": [
    "def check_winner(board):\n",
    "    n = len(board)\n",
    "    \n",
    "    # Check rows for a winner\n",
    "    for row in board:\n",
    "        if row.count(row[0]) == n and row[0] != 0:\n",
    "            return row[0]\n",
    "    \n",
    "    # Check columns for a winner\n",
    "    for col in range(n):\n",
    "        if all(board[row][col] == board[0][col] for row in range(n)) and board[0][col] != 0:\n",
    "            return board[0][col]\n",
    "    \n",
    "    # Check the main diagonal for a winner\n",
    "    if all(board[i][i] == board[0][0] for i in range(n)) and board[0][0] != 0:\n",
    "        return board[0][0]\n",
    "    \n",
    "    # Check the anti-diagonal for a winner\n",
    "    if all(board[i][n - 1 - i] == board[0][n - 1] for i in range(n)) and board[0][n - 1] != 0:\n",
    "        return board[0][n - 1]\n",
    "    \n",
    "    # Check if the game is incomplete (i.e., there are still empty spaces)\n",
    "    for row in board:\n",
    "        if 0 in row:\n",
    "            return -1\n",
    "    \n",
    "    # If no winner and no empty spaces, the game is a draw\n",
    "    return 0\n",
    "\n",
    "def convert_to_coordinates(position):\n",
    "    # Convert a position like \"A2\" to board coordinates\n",
    "    row_labels = \"ABCDEFGHIJKLMNOPQRSTUVWXYZ\"  # This handles labeling for larger boards\n",
    "    row = row_labels.index(position[0].upper())\n",
    "    col = int(position[1]) - 1  # Convert the column label to an index\n",
    "    return row, col\n",
    "\n",
    "def draw_labeled_board(board):\n",
    "    # Create column labels\n",
    "    n = len(board)\n",
    "    col_labels = \"  \" + \" \".join(str(i + 1) for i in range(n))\n",
    "    print(col_labels)\n",
    "    \n",
    "    row_labels = \"ABCDEFGHIJKLMNOPQRSTUVWXYZ\"  # Handles up to 26 rows (adjust if needed)\n",
    "    \n",
    "    for i, row in enumerate(board):\n",
    "        # Add the row label before printing the row\n",
    "        print(row_labels[i], end=\" \")\n",
    "        for cell in row:\n",
    "            symbol = \" \" if cell == 0 else \"X\" if cell == 1 else \"O\"\n",
    "            print(symbol, end=\" \")\n",
    "        print()\n",
    "\n",
    "def place_marker_labeled(board, player, position):\n",
    "    try:\n",
    "        x, y = convert_to_coordinates(position)\n",
    "        \n",
    "        # Ensure coordinates are within bounds\n",
    "        if x < 0 or x >= len(board) or y < 0 or y >= len(board[0]):\n",
    "            print(\"Invalid position!\")\n",
    "            return False\n",
    "\n",
    "        # Check if the selected spot is empty (0)\n",
    "        if board[x][y] == 0:\n",
    "            board[x][y] = player\n",
    "            return True\n",
    "        else:\n",
    "            print(\"Spot already taken!\")\n",
    "            return False\n",
    "    except Exception as e:\n",
    "        print(f\"Invalid input: {e}\")\n",
    "        return False\n",
    "\n",
    "# Example usage\n",
    "game_board = [\n",
    "    [0, 0, 0],\n",
    "    [0, 0, 0],\n",
    "    [0, 0, 0]\n",
    "]\n",
    "\n",
    "# Draw the initial labeled board\n",
    "draw_labeled_board(game_board)\n",
    "\n",
    "# Players place markers using labeled positions\n",
    "if place_marker_labeled(game_board, 1, \"A1\"):\n",
    "    print(\"Placement successful!\")\n",
    "else:\n",
    "    print(\"Placement failed.\")\n",
    "draw_labeled_board(game_board)\n",
    "\n",
    "if place_marker_labeled(game_board, 2, \"B2\"):\n",
    "    print(\"Placement successful!\")\n",
    "else:\n",
    "    print(\"Placement failed.\")\n",
    "draw_labeled_board(game_board)\n",
    "\n",
    "if place_marker_labeled(game_board, 1, \"A1\"):  # Attempt to place on an occupied spot\n",
    "    print(\"Placement successful!\")\n",
    "else:\n",
    "    print(\"Placement failed.\")\n",
    "draw_labeled_board(game_board)"
   ]
  },
  {
   "cell_type": "code",
   "execution_count": null,
   "metadata": {
    "collapsed": true,
    "jupyter": {
     "outputs_hidden": true
    }
   },
   "outputs": [],
   "source": [
    "# Test your solution here"
   ]
  },
  {
   "cell_type": "markdown",
   "metadata": {},
   "source": [
    "*Exercise 7:* Write a function that takes a board, player number, and location specified as in exercise 6 and then calls exercise 5 to correctly modify the board.  "
   ]
  },
  {
   "cell_type": "code",
   "execution_count": 10,
   "metadata": {},
   "outputs": [
    {
     "name": "stdout",
     "output_type": "stream",
     "text": [
      "Placement successful!\n",
      "Placement successful!\n",
      "Spot already taken!\n",
      "Placement failed.\n",
      "[1, 0, 0]\n",
      "[0, 2, 0]\n",
      "[0, 0, 0]\n"
     ]
    }
   ],
   "source": [
    "def convert_to_coordinates(position):\n",
    "    row_labels = \"ABCDEFGHIJKLMNOPQRSTUVWXYZ\"\n",
    "    row = row_labels.index(position[0].upper())\n",
    "    col = int(position[1:]) - 1  # Convert the column label to an index\n",
    "    return row, col\n",
    "\n",
    "def place_marker(board, player, x, y):\n",
    "    if x < 0 or x >= len(board) or y < 0 or y >= len(board[0]):\n",
    "        print(\"Invalid coordinates!\")\n",
    "        return False\n",
    "        \n",
    "    if board[x][y] == 0:\n",
    "        board[x][y] = player\n",
    "        return True\n",
    "    else:\n",
    "        print(\"Spot already taken!\")\n",
    "        return False\n",
    "\n",
    "def place_marker_labeled(board, player, position):\n",
    "    try:\n",
    "        x, y = convert_to_coordinates(position)\n",
    "        \n",
    "        if place_marker(board, player, x, y):\n",
    "            return True\n",
    "        else:\n",
    "            return False\n",
    "    except Exception as e:\n",
    "        print(f\"Invalid input: {e}\")\n",
    "        return False\n",
    "\n",
    "# Example usage:\n",
    "game_board = [\n",
    "    [0, 0, 0],\n",
    "    [0, 0, 0],\n",
    "    [0, 0, 0]\n",
    "]\n",
    "\n",
    "# Player 1 places an \"X\" at \"A1\"\n",
    "if place_marker_labeled(game_board, 1, \"A1\"):\n",
    "    print(\"Placement successful!\")\n",
    "else:\n",
    "    print(\"Placement failed.\")\n",
    "\n",
    "# Player 2 places an \"O\" at \"B2\"\n",
    "if place_marker_labeled(game_board, 2, \"B2\"):\n",
    "    print(\"Placement successful!\")\n",
    "else:\n",
    "    print(\"Placement failed.\")\n",
    "\n",
    "# Player 1 tries to place an \"X\" at \"A1\" again (already occupied)\n",
    "if place_marker_labeled(game_board, 1, \"A1\"):\n",
    "    print(\"Placement successful!\")\n",
    "else:\n",
    "    print(\"Placement failed.\")\n",
    "\n",
    "# Display the updated board\n",
    "for row in game_board:\n",
    "    print(row)"
   ]
  },
  {
   "cell_type": "markdown",
   "metadata": {},
   "source": [
    "*Exercise 8:* Write a function is called with a board and player number, takes input from the player using python's `input`, and modifies the board using your function from exercise 7. Note that you should keep asking for input until you have gotten a valid input that results in a valid move."
   ]
  },
  {
   "cell_type": "code",
   "execution_count": 18,
   "metadata": {},
   "outputs": [],
   "source": [
    "def get_valid_move(board, player):\n",
    "    while True:\n",
    "        try:\n",
    "            # Ask for row and column input from the player\n",
    "            row = int(input(f\"Player {player}, enter the row number (0-{len(board)-1}): \"))\n",
    "            col = int(input(f\"Player {player}, enter the column number (0-{len(board)-1}): \"))\n",
    "            \n",
    "            # Use the place_marker function to attempt to place the player's marker\n",
    "            if place_marker(board, player, row, col):\n",
    "                print(\"Placement successful!\")\n",
    "                break\n",
    "            else:\n",
    "                print(\"That spot is already taken. Please choose another one.\")\n",
    "        except (ValueError, IndexError):\n",
    "            print(\"Invalid input. Please enter valid row and column numbers.\")"
   ]
  },
  {
   "cell_type": "markdown",
   "metadata": {},
   "source": [
    "*Exercise 9:* Use all of the previous exercises to implement a full tic-tac-toe game, where an appropriate board is drawn, 2 players are repeatedly asked for a location coordinates of where they wish to place a mark, and the game status is checked until a player wins or a draw occurs."
   ]
  },
  {
   "cell_type": "code",
   "execution_count": null,
   "metadata": {},
   "outputs": [
    {
     "name": "stdout",
     "output_type": "stream",
     "text": [
      " --- --- ---\n",
      "|   |   |   |\n",
      " --- --- ---\n",
      "|   |   |   |\n",
      " --- --- ---\n",
      "|   |   |   |\n",
      " --- --- ---\n"
     ]
    }
   ],
   "source": [
    "def create_tic_tac_toe_board(n):\n",
    "    return [[0 for _ in range(n)] for _ in range(n)]\n",
    "\n",
    "def place_marker(board, player, row, col):\n",
    "    if board[row][col] == 0:\n",
    "        board[row][col] = player\n",
    "        return True\n",
    "    else:\n",
    "        return False\n",
    "\n",
    "def check_winner(board, player):\n",
    "    n = len(board)\n",
    "    for i in range(n):\n",
    "        if all([board[i][j] == player for j in range(n)]) or all([board[j][i] == player for j in range(n)]):\n",
    "            return True\n",
    "    if all([board[i][i] == player for i in range(n)]) or all([board[i][n-i-1] == player for i in range(n)]):\n",
    "        return True\n",
    "    return False\n",
    "\n",
    "def is_board_full(board):\n",
    "    return all([0 not in row for row in board])\n",
    "\n",
    "def print_board(board):\n",
    "    n = len(board)\n",
    "    for row in board:\n",
    "        print(\" ---\" * n)\n",
    "        print(\"| \" + \" | \".join([\"X\" if cell == 1 else \"O\" if cell == 2 else \" \" for cell in row]) + \" |\")\n",
    "    print(\" ---\" * n)\n",
    "\n",
    "def get_valid_move(board, player):\n",
    "    while True:\n",
    "        try:\n",
    "            row = int(input(f\"Player {player}, enter the row number (0-{len(board)-1}): \"))\n",
    "            col = int(input(f\"Player {player}, enter the column number (0-{len(board)-1}): \"))\n",
    "            \n",
    "            if place_marker(board, player, row, col):\n",
    "                print(\"Placement successful!\")\n",
    "                break\n",
    "            else:\n",
    "                print(\"That spot is already taken. Please choose another one.\")\n",
    "        except (ValueError, IndexError):\n",
    "            print(\"Invalid input. Please enter valid row and column numbers.\")\n",
    "\n",
    "def play_tic_tac_toe(n):\n",
    "    board = create_tic_tac_toe_board(n)\n",
    "    current_player = 1\n",
    "\n",
    "    while True:\n",
    "        print_board(board)\n",
    "        get_valid_move(board, current_player)\n",
    "\n",
    "        if check_winner(board, current_player):\n",
    "            print_board(board)\n",
    "            print(f\"Player {current_player} wins!\")\n",
    "            break\n",
    "        elif is_board_full(board):\n",
    "            print_board(board)\n",
    "            print(\"It's a draw!\")\n",
    "            break\n",
    "        else:\n",
    "            current_player = 2 if current_player == 1 else 1\n",
    "\n",
    "play_tic_tac_toe(3)"
   ]
  },
  {
   "cell_type": "markdown",
   "metadata": {},
   "source": [
    "*Exercise 10:* Test that your game works for 5x5 Tic Tac Toe.  "
   ]
  },
  {
   "cell_type": "code",
   "execution_count": null,
   "metadata": {
    "collapsed": true,
    "jupyter": {
     "outputs_hidden": true
    }
   },
   "outputs": [],
   "source": [
    "def test_5x5_tic_tac_toe():\n",
    "    print(\"Starting a 5x5 Tic Tac Toe game:\")\n",
    "    play_tic_tac_toe(5)  # Start a 5x5 game\n",
    "\n",
    "test_5x5_tic_tac_toe()"
   ]
  },
  {
   "cell_type": "markdown",
   "metadata": {},
   "source": [
    "*Exercise 11:* (Advanced / Challenge) Develop a version of the game where one player is the computer. Note that you don't need to do an extensive seach for the best move. You can have the computer simply protect against loosing and otherwise try to win with straight or diagonal patterns."
   ]
  },
  {
   "cell_type": "code",
   "execution_count": null,
   "metadata": {
    "collapsed": true,
    "jupyter": {
     "outputs_hidden": true
    }
   },
   "outputs": [],
   "source": [
    "import random\n",
    "\n",
    "def get_computer_move(board, computer, player):\n",
    "    n = len(board)\n",
    "\n",
    "    for row in range(n):\n",
    "        for col in range(n):\n",
    "            if board[row][col] == 0:\n",
    "                board[row][col] = computer\n",
    "                if check_winner(board, computer):\n",
    "                    return row, col\n",
    "                board[row][col] = 0\n",
    "\n",
    "    for row in range(n):\n",
    "        for col in range(n):\n",
    "            if board[row][col] == 0:\n",
    "                board[row][col] = player\n",
    "                if check_winner(board, player):\n",
    "                    board[row][col] = 0\n",
    "                    return row, col\n",
    "                board[row][col] = 0\n",
    "\n",
    "    empty_spots = [(row, col) for row in range(n) for col in range(n) if board[row][col] == 0]\n",
    "    return random.choice(empty_spots)\n",
    "\n",
    "def play_tic_tac_toe_with_computer(n):\n",
    "    board = create_tic_tac_toe_board(n)\n",
    "    current_player = 1\n",
    "    computer = 2\n",
    "\n",
    "    while True:\n",
    "        print_board(board)\n",
    "        \n",
    "        if current_player == 1:\n",
    "            get_valid_move(board, current_player)\n",
    "        else:\n",
    "            print(\"Computer is making a move...\")\n",
    "            row, col = get_computer_move(board, computer, 1)\n",
    "            place_marker(board, computer, row, col)\n",
    "        \n",
    "        if check_winner(board, current_player):\n",
    "            print_board(board)\n",
    "            if current_player == 1:\n",
    "                print(\"Player 1 wins!\")\n",
    "            else:\n",
    "                print(\"The computer wins!\")\n",
    "            break\n",
    "        elif is_board_full(board):\n",
    "            print_board(board)\n",
    "            print(\"It's a draw!\")\n",
    "            break\n",
    "        else:\n",
    "            current_player = 2 if current_player == 1 else 1\n",
    "            \n",
    "play_tic_tac_toe_with_computer(3)"
   ]
  },
  {
   "cell_type": "code",
   "execution_count": null,
   "metadata": {
    "collapsed": true,
    "jupyter": {
     "outputs_hidden": true
    }
   },
   "outputs": [],
   "source": [
    "play_tic_tac_toe_with_computer(3)"
   ]
  }
 ],
 "metadata": {
  "kernelspec": {
   "display_name": "Python 3 (ipykernel)",
   "language": "python",
   "name": "python3"
  },
  "language_info": {
   "codemirror_mode": {
    "name": "ipython",
    "version": 3
   },
   "file_extension": ".py",
   "mimetype": "text/x-python",
   "name": "python",
   "nbconvert_exporter": "python",
   "pygments_lexer": "ipython3",
   "version": "3.11.5"
  }
 },
 "nbformat": 4,
 "nbformat_minor": 4
}
